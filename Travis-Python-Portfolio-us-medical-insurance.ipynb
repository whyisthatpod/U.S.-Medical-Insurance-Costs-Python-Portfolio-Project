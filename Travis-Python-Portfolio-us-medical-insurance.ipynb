{
 "cells": [
  {
   "cell_type": "markdown",
   "metadata": {},
   "source": [
    "# U.S. Medical Insurance Costs\n",
    "\n",
    "In this project, a **CSV** file with medical insurance costs will be investigated using Python fundamentals. The goal with this project will be to analyze various attributes within **insurance.csv** to learn more about the patient information in the file and gain insight into potential use cases for the dataset."
   ]
  },
  {
   "cell_type": "code",
   "execution_count": 1,
   "metadata": {},
   "outputs": [],
   "source": [
    "import csv"
   ]
  },
  {
   "cell_type": "markdown",
   "metadata": {},
   "source": [
    "The first step is to import the CSV library in order to work with the insurance.csv where our dataset is contained. We next create empty lists of the variables contained in the dataset in order to store the information from the CSV."
   ]
  },
  {
   "cell_type": "code",
   "execution_count": 73,
   "metadata": {},
   "outputs": [],
   "source": [
    "age = []\n",
    "sex = []\n",
    "bmi = []\n",
    "children = []\n",
    "smoker = []\n",
    "region = []\n",
    "charges = []"
   ]
  },
  {
   "cell_type": "code",
   "execution_count": 74,
   "metadata": {},
   "outputs": [
    {
     "name": "stdout",
     "output_type": "stream",
     "text": [
      "{}\n"
     ]
    }
   ],
   "source": [
    "insurance_dict = {}\n",
    "\n",
    "with open('insurance.csv', newline = '') as insurance_csv:\n",
    "    insurance_full = csv.DictReader(insurance_csv)\n",
    "    for ages in insurance_full:\n",
    "        age.append(int(ages['age']))\n",
    "        sex.append(ages['sex'])\n",
    "        bmi.append(float(ages['bmi']))\n",
    "        children.append(int(ages['children']))\n",
    "        smoker.append(ages['smoker'])\n",
    "        region.append(ages['region'])\n",
    "        charges.append(float(ages['charges']))\n",
    "print(insurance_dict)  "
   ]
  },
  {
   "cell_type": "code",
   "execution_count": 80,
   "metadata": {},
   "outputs": [
    {
     "name": "stdout",
     "output_type": "stream",
     "text": [
      "The average age of patients in this dataset is 39.21 years old.\n"
     ]
    }
   ],
   "source": [
    "average_age = round(sum(age) / len(age), 2)\n",
    "print(\"The average age of patients in this dataset is \" + str(average_age) + \" years old.\")"
   ]
  },
  {
   "cell_type": "code",
   "execution_count": 82,
   "metadata": {},
   "outputs": [],
   "source": [
    "different_regions = []\n",
    "\n",
    "for place in region:\n",
    "    if place in different_regions:\n",
    "        continue\n",
    "    else:\n",
    "        different_regions.append(place)"
   ]
  },
  {
   "cell_type": "code",
   "execution_count": 83,
   "metadata": {},
   "outputs": [
    {
     "name": "stdout",
     "output_type": "stream",
     "text": [
      "['southwest', 'southeast', 'northwest', 'northeast']\n"
     ]
    }
   ],
   "source": [
    "print(different_regions)"
   ]
  },
  {
   "cell_type": "code",
   "execution_count": 88,
   "metadata": {},
   "outputs": [],
   "source": [
    "how_many_from_region = {'southwest': 0, 'southeast': 0, 'northwest': 0, 'northeast': 0}\n",
    "\n",
    "for place in region:\n",
    "    if place == 'southwest':\n",
    "        how_many_from_region['southwest'] += 1\n",
    "    elif place == 'southeast':\n",
    "        how_many_from_region['southeast'] += 1\n",
    "    elif place == 'northwest':\n",
    "        how_many_from_region['northwest'] += 1\n",
    "    elif place == 'northeast':\n",
    "        how_many_from_region['northeast'] += 1\n",
    "    else:\n",
    "        print(place)\n",
    "        "
   ]
  },
  {
   "cell_type": "code",
   "execution_count": 97,
   "metadata": {},
   "outputs": [],
   "source": [
    "the_most_in_region = max(how_many_from_region.values())\n",
    "region_with_most = ''\n",
    "for place in how_many_from_region:\n",
    "    if how_many_from_region[place] == the_most_in_region:\n",
    "        region_with_most = place\n",
    "    else:\n",
    "        continue"
   ]
  },
  {
   "cell_type": "code",
   "execution_count": 98,
   "metadata": {},
   "outputs": [
    {
     "name": "stdout",
     "output_type": "stream",
     "text": [
      "The region where most members in this dataset are from is the southeast with 364 members.\n"
     ]
    }
   ],
   "source": [
    "print('The region where most members in this dataset are from is the ' + region_with_most + ' with ' + str(the_most_in_region) + ' members.') "
   ]
  },
  {
   "cell_type": "code",
   "execution_count": 137,
   "metadata": {},
   "outputs": [],
   "source": [
    "def insurance_table(age, sex, bmi, children, smoker, region, charges):\n",
    "  insurance_dictionar = {}\n",
    "  for i in range(len(age)):\n",
    "    insurance_dictionar[i] = {\"Age\": age[i], \"Sex\": sex[i], \"BMI\": bmi[i], \"Children\": children[i], \"Smoker\": smoker[i], \"Region\": region[i], \"Charges\": charges[i]}\n",
    "  return insurance_dictionar"
   ]
  },
  {
   "cell_type": "code",
   "execution_count": 138,
   "metadata": {},
   "outputs": [],
   "source": [
    "insurance_dictionary = insurance_table(age, sex, bmi, children, smoker, region, charges)"
   ]
  },
  {
   "cell_type": "code",
   "execution_count": 147,
   "metadata": {},
   "outputs": [],
   "source": [
    "smoker_insurance_costs = []\n",
    "smoker_total_cost = 0\n",
    "non_smoker_insurance_costs = []\n",
    "non_smoker_total_cost = 0\n",
    "\n",
    "for i in range(len(age)):\n",
    "    if insurance_dictionary[i]['Smoker'] == 'yes':\n",
    "        smoker_total_cost += insurance_dictionary[i][\"Charges\"]\n",
    "        smoker_insurance_costs.append(insurance_dictionary[i][\"Charges\"])\n",
    "    else:\n",
    "        non_smoker_total_cost += insurance_dictionary[i][\"Charges\"]\n",
    "        non_smoker_insurance_costs.append(insurance_dictionary[i][\"Charges\"])"
   ]
  },
  {
   "cell_type": "code",
   "execution_count": 154,
   "metadata": {},
   "outputs": [],
   "source": [
    "average_smoker_insurance_cost = round((smoker_total_cost / len(smoker_insurance_costs)), 2)\n",
    "average_non_smoker_insurance_cost = round((non_smoker_total_cost / len(non_smoker_insurance_costs)), 2)\n",
    "average_insurance_cost = round(sum(charges) / len(charges), 2)"
   ]
  },
  {
   "cell_type": "code",
   "execution_count": 156,
   "metadata": {},
   "outputs": [
    {
     "name": "stdout",
     "output_type": "stream",
     "text": [
      "The average insurance cost for a smoker in our dataset is 32050.23 dollars.\n",
      "The average insurance cost for a non-smoker in our dataset is 8434.27 dollars.\n",
      "The average insurance cost for a member in our dataset is 13270.42 dollars.\n"
     ]
    }
   ],
   "source": [
    "print(\"The average insurance cost for a smoker in our dataset is \" + str(average_smoker_insurance_cost) + \" dollars.\")\n",
    "print(\"The average insurance cost for a non-smoker in our dataset is \" + str(average_non_smoker_insurance_cost) + \" dollars.\")\n",
    "print(\"The average insurance cost for a member in our dataset is \" + str(average_insurance_cost) + \" dollars.\")\n"
   ]
  },
  {
   "cell_type": "code",
   "execution_count": 159,
   "metadata": {},
   "outputs": [
    {
     "name": "stdout",
     "output_type": "stream",
     "text": [
      "On average a smoker pays 23615.96 dollars more than a non-smoker for members in our dataset.\n"
     ]
    }
   ],
   "source": [
    "difference_in_cost_smoker_vs_nonsmoker = average_smoker_insurance_cost - average_non_smoker_insurance_cost\n",
    "\n",
    "print(\"On average a smoker pays \" + str(difference_in_cost_smoker_vs_nonsmoker) + \" dollars more than a non-smoker for members in our dataset.\")"
   ]
  },
  {
   "cell_type": "code",
   "execution_count": 160,
   "metadata": {},
   "outputs": [],
   "source": [
    "members_with_children = []\n",
    "total_age_with_child = 0\n",
    "members_without_children = []\n",
    "total_age_without_child = 0\n",
    "\n",
    "for i in range(len(age)):\n",
    "    if insurance_dictionary[i]['Children'] > 0:\n",
    "        total_age_with_child += insurance_dictionary[i][\"Age\"]\n",
    "        members_with_children.append(i)\n",
    "    else:\n",
    "        total_age_without_child += insurance_dictionary[i][\"Age\"]\n",
    "        members_without_children.append(i)"
   ]
  },
  {
   "cell_type": "code",
   "execution_count": 161,
   "metadata": {},
   "outputs": [],
   "source": [
    "average_age_with_children = round((total_age_with_child / len(members_with_children)), 2)\n",
    "average_age_without_children = round((total_age_without_child / len(members_without_children)), 2)\n",
    "average_age = round(sum(age) / len(age), 2)"
   ]
  },
  {
   "cell_type": "code",
   "execution_count": 162,
   "metadata": {},
   "outputs": [
    {
     "name": "stdout",
     "output_type": "stream",
     "text": [
      "On average a member of our dataset with at least one child is aged 39.78 years old.\n",
      "On average a member of our dataset without a child is aged 38.44 years old.\n",
      "On average a member of our dataset is aged 39.21 years old.\n"
     ]
    }
   ],
   "source": [
    "print(\"On average a member of our dataset with at least one child is aged \" + str(average_age_with_children) + \" years old.\")\n",
    "print(\"On average a member of our dataset without a child is aged \" + str(average_age_without_children) + \" years old.\")\n",
    "print(\"On average a member of our dataset is aged \" + str(average_age) + \" years old.\")"
   ]
  },
  {
   "cell_type": "code",
   "execution_count": 224,
   "metadata": {},
   "outputs": [],
   "source": [
    "# funcion to create a new insurance_by_age dictionary that arranges all members of the dataset by their age\n",
    "\n",
    "def insurance_age_dictionary(insurance):  \n",
    "  insurance_by_age = {}\n",
    "  for individual in insurance:\n",
    "      current_age = insurance[individual][\"Age\"]\n",
    "      current_individual = insurance[individual]\n",
    "      if current_age not in insurance_by_age:\n",
    "          insurance_by_age[current_age] = [current_individual]\n",
    "      else:\n",
    "          insurance_by_age[current_age].append(current_individual)\n",
    "  return insurance_by_age\n",
    "\n",
    "# create a new dictionary of hurricanes with year and key\n",
    "\n",
    "insurance_by_age = insurance_age_dictionary(insurance_dictionary)\n"
   ]
  },
  {
   "cell_type": "code",
   "execution_count": 225,
   "metadata": {},
   "outputs": [],
   "source": [
    "# function to determine the average price of insurance by age\n",
    "\n",
    "def average_cost_by_age(age):\n",
    "    total_cost_for_age = 0\n",
    "    amount_of_age = []\n",
    "    checker = insurance_by_age.get(age, 0)\n",
    "    if checker == 0:\n",
    "        min_age = min(insurance_by_age)\n",
    "        max_age = max(insurance_by_age)\n",
    "        print('The age of ' + str(age) + ' is not in our dataset.')\n",
    "        print('The minimum age in our dataset is ' + str(min_age) + ' and the maximum age is ' + str(max_age) + '.')\n",
    "    else:\n",
    "        for individual in insurance_by_age[age]:\n",
    "            total_cost_for_age += individual['Charges']\n",
    "            amount_of_age.append(individual['Charges'])\n",
    "        average_by_age = total_cost_for_age / len(amount_of_age)\n",
    "        print('The average insurance cost of an ' + str(age) + ' year old in our dataset is ' + str(round(average_by_age, 2)) + ' dollars.')\n",
    "\n"
   ]
  },
  {
   "cell_type": "code",
   "execution_count": 227,
   "metadata": {},
   "outputs": [
    {
     "name": "stdout",
     "output_type": "stream",
     "text": [
      "The age of 17 is not in our dataset.\n",
      "The minimum age in our dataset is 18 and the maximum age is 64.\n"
     ]
    }
   ],
   "source": [
    "# add the age you would like to know the average of cost for to the inquired_age variable\n",
    "\n",
    "inquired_age = 17\n",
    "\n",
    "average_cost_by_age(inquired_age)"
   ]
  },
  {
   "cell_type": "code",
   "execution_count": null,
   "metadata": {},
   "outputs": [],
   "source": []
  }
 ],
 "metadata": {
  "kernelspec": {
   "display_name": "Python 3 (ipykernel)",
   "language": "python",
   "name": "python3"
  },
  "language_info": {
   "codemirror_mode": {
    "name": "ipython",
    "version": 3
   },
   "file_extension": ".py",
   "mimetype": "text/x-python",
   "name": "python",
   "nbconvert_exporter": "python",
   "pygments_lexer": "ipython3",
   "version": "3.9.7"
  }
 },
 "nbformat": 4,
 "nbformat_minor": 4
}
